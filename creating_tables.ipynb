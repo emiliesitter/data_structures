{
 "cells": [
  {
   "cell_type": "code",
   "execution_count": 1,
   "metadata": {},
   "outputs": [],
   "source": [
    "#person dict\n",
    "\n",
    "persons = [\"Richard Engländer\t09.03.1859\t08.01.1919\twriter\tPeter Altenberg\", \"Hermann Bahr\t19.07.1863\t15.01.1934\twriter\", \"Felix Biedermann\t29.05.1870\t26.10.1928\twriter\tFelix Dörmann\", \"Hugo von Hofmannsthal\t01.02.1974\t15.07.1929\twriter\tLoris\", \"Karl Kraus\t28.04.1874\t12.06.1936\twriter\", \"Fritz Kreisler\t02.02.1875\t29.01.1962\tcomposer\", \"Siegmund Salzmann\t06.09.1869\t08.10.1945\twriter\tFelix Salten\", \"Arthur Schnitzler\t15.05.1862\t21.10.1931\twriter\", \"Arnold Schönberg\t13.09.1874\t13.07.1951\tcomposer\", \"Rudolf Steiner\t27.02.1861\t30.03.1925\twriter\", \"Hugo Wolf\t13.03.1860\t22.02.1903\tcomposer\", \"Stefan Zweig\t28.11.1881\t23.02.1942\twriter\", \"Richard Beer-Hofmann\t#11.07.1866\t26.09.1945\twriter\", \"Lou Andreas-Salomé\t12.02.1861\t05.02.1937\twriter\", \"Josef Kainz\t02.01.1858\t20.09.1910\tactor\", \"Otto Abrahamsohn\t#05.02.1856\t28.11.1912\tdirector\tOtto Brahm\", \"Paul Schlenther\t20.08.1854\t30.04.1914\tdirector\", \"Paul Wertheimer\t04.02.1887\t19.03.1937\twriter\", \"Leopold Ferdinand Freiherr von Andrian zu Werburg\t09.05.1875\t19.11.1951\twriter\tLeopold Andrian\", \"Anna von Mildenburg\t29.11.1872\t27.01.1947\toperasinger\", \"Alfred Roller\t02.10.1864\t21.06.1935\tpainter\", \"Koloman Moser\t30.03.1868\t18.10.1918\tpainter\", \"Victor Hirschfeld\t04.01.1858\t03.02.1940\twriter\tVictor Léon\", \"Leo Fall\t02.02.1873\t16.09.1925\tcomposer\", \"Clara Katharina Pollaczek\t15.01.1875\t22.07.1951\twriter\", \"Wilhelm Wacek\t28.10.1864\t19.12.1944\tmusician\", \"Max Burckhard\t14.07.1854\t16.03.1912\twriter\", \"Georg Hirschfeld\t11.02.1873\t17.01.1942\twriter\", \"Marie Chlum\t03.07.1867\t19.11.1925\tactor\tMarie Glümer\", \"Hermann Sudermann\t30.09.1857\t21.11.1928\tNA\", \"Otto Eisenschitz\t21.2.1863\t11.09.1942\twriter\", \"Kurt Friedrich Gödel\t28.04.1906\t14.01.1978\tphilosopher\", \"Gustav Schwarzkopf\t7. 11. 1853\t13.11.1939\twriter\", \"Clemens Krauss\t31.3.1893\t16.05.1954\tconductor\", \"Paul Goldmann\t31.01.1865\t25.09.1935\tjournalist\", \"Ernst Polak\t4.8.1886\t21.09.1947\tliterary critic\", \"Regina Wiedner\t21.10.1893\t23.12.1985\twriter\tGina Kraus\", \"Albert Conrad Kiehtreiber\t5.2.1887\t16.05.1973\tpainter\tAlbert Paris Gütersloh\", \"Friedrich Eckstein\t17.2.1861\t10.11.1939\twriter\", \"Ea von Allesch\t11.5.1875\t30.07.1953\tjournalist\", \"Joseph Roth\t02.09.1894\t27.05.1939\tjournalist\", \"Anton Kuh\t12.06.1890\t18.01.1941\tjournalis\", \"Gustav Mahler\t07.07.1860\t18.05.1911\tcomposer\", \"Moritz Coschell\t18.09.1872\t11.07.1943\tpainter\tMoritz Kocheles\", \"Oskar Kokoschka\t01.03.1886\t22.02.1980\tpainter\", \"Franz Blei\t18.01.1871\t10.07.1942\twriter\", \"Friedrich M. Fels\t1864\tnach 1899\tjournalist\", \"Alfred Polgar\t17.10.1873\t24.04.1955\twriter\", \"Elsa Plessner\t22.08.1875\t01.05.1932\twriter\tElsa Ginsburg\", \"Karl Hauer\t20.10.1875\t17.08.1919\tjournalist\", \"Otto Soyka\t09.05.1881\t02.12.1955\twriter\", \"Robert Musil\t6.11.1880\t15.04.1942\twriter\", \"Emanuel Georg Josef Saiko\t5.2.1892\t23.12.1962\twriter\tGeorg Saiko\", \"Hermann Broch\t1.11.1886\t30.05.1951\twriter\", \"Franz Werfel\t10.9.1890\t26.08.1945\twriter\", \"Leo Perutz\t2.11.1882\t25.08.1957\twriter\", \"Otto Pick\t22.5.1887\t25.10.1949\twriter\", \"Otfried Krzyzanowski\t25.6.1886\t30.11.1918\tbohemian\", \"Franz Carl Heimito Doderer\t5.9.1896\t23.12.1966\twriter\tHeimito von Doderer\", \"Otto Gross\t17.3.1877\t13.02.1929\tpsychiatrist\", \"Adolf Loos\t10.12.1870\t23.08.1933\tarchitect\", \"Egon Friedell\t21.01.1878\t16.03.1938\tjournalist\", \"Felix Grafe\t09.07.1888\t18.12.1942\twriter\", \"Bertha von Suttner\t09.06.1843\t21.06.1914\twriter\tB. Oulot\", \"Theodor Herzl\t02.05.1860\t03.07.1904\twriter\", \"Anton Wildgans\t17.04.1881\t03.05.1932\twriter\", \"Alfred Gold\t28.06.1874\t24.08.1958\twriter\", \"Maria Reinhard\t13.03.1871\t18.03.1899\tactress\tMarie Reinhard\", \"Ottilie Metzl\t07.03.1868\t22.06.1942\tactress\tOttilie Salten\", \"Robert Hirschfeld\t17.09.1857\t02.04.1914\tmusic critic\tL. A. Terne\", \"Julius von Gans-Ludassy\t13.04.1858\t30.09.1922\twriter\tJulius von Goose\", \"Leopold Rosner\t21.05.1838\t23.07.1903\tpublisher\tHohenmarkt\", \"Oskar Friedmann\t13.07.1872\t03.11.1929\twriter\", \"Ferdinand von Saar\t30.09.1833\t24.07.1906\twriter\", \"Friedrich Kantor\t16.09.1908\t10.11.1979\twriter\tFriedrich Torberg\", \"Richard Rosenbaum\t4. 11. 1867\t25.07.1942\tpublisher\", \"Lia Rosen\t1893\t1973\tactress\", \"Olga Lewinsky\t7.7.1853\t26.06.1935\tactress\", \"Katharina Schratt\t11.09.1953\t17.04.1949\tactress\", \"Alfred von Berger\t30.4.1853\t24.08.1912\tjournalist\", \"Ida Orloff\t16. 2. 1889\t09.04.1945\tactress\", \"Hugo Thimig\t16.6.1854\t24.09.1944\tactor\", \"Otto Karl August Meyer\t13.4.1871\t27.04.1965\tactor\tOtto Tressler\", \"Lotte Witt\t23.4.1870\t28.12.1938\tactress\", \"Annie Rosar\t17. 5. 1888\t05.08.1963\tactrss\", \"Hans Lackner\t11. 5. 1876\t16.03.1930\tactor\", \"Alfred Gerasch\t17. 8. 1877\t12.08.1955\tactor\", \"Alexander Girardi\t5.12.1850\t20.04.1918\tactor\", \"Leopold Geiringer\t04.08.1851\t29.05.1900\twriter\tLeo Gerhard\", \"Emmerich von Bukovics\t28.2.1844\t04.07.1905\tdirector\", \"Käthe Hannemann\t31.5.1881\tafter 1935\tactress\", \"Alfred Bernau\t6.3.1879\t20.04.1950\tactor\", \"Helene Petermann\t31.7.1863\t09.02.1939\tactress\tHelene Odilion\", \"Adolf Weiß\t4.4.1855\t17.07.1933\tactor\tAdolf Weisse\", \"Karl Wallner\t1961\tafter 1902\tactor\", \"Wilhelm Karczag\t28.8.1857\t11.10.1923\twriter\", \"Alexandrine von Schönerer\t15.6.1850\t28.11.1919\tdirector\", \"Heinrich Schnitzler\t09.08.1902\t12.07.1982\tactor\tHenry Schnitzler\", \"Adam Müller\t22.10.1852\t05.01.1923\twriter\tAdam Müller-Guttenbrunn\", \"Josef Jarno\t24.8.1866\t11.01.1932\tactor\", \"Maximilian Goldmann\t9.9.1873\t31.10.1943\tdirector\tMax Reinhardt\", \"Max Johann Heinrich Paulsen\t18.11.1876\t11.03.1956\tDirector\tPeter Petersen\", \"Wilhelm Grosz\t11.08.1894\t10.12.1939\tcomposer\", \"Paul Brann\t05. Jan\t02.09.1955\tactor\", \"Anton Bruckner\t04.09.1924\t11.10.1896\tcomposer\", \"Erich Schamschula\tNA\tNA\tmusican\"]\n",
    "p_indices = [1,2,3,4,5,6,7,8,9,10,11,12,13,14,15,16,17,18,19,20,21,22,23,24,25,26,27,28,29,30,31,32,33,34,35,36,37,38,39,40,41,42,43,44,45,46,47,48,49,50,51,52,53,54,55,56,57,58,59,60,61,62,63,64,65,66,67,68,69,70,71,72,73,74,75,76,77,78,79,80,81,82,83,84,85,86,87,88,89,90,91,92,93,94,95,96,97,98,99,100,101,102,103,104,105,106]\n",
    "\n",
    "person_dict = dict(zip(p_indices, persons)) "
   ]
  },
  {
   "cell_type": "code",
   "execution_count": 2,
   "metadata": {},
   "outputs": [
    {
     "name": "stdout",
     "output_type": "stream",
     "text": [
      "{1: 'Richard Engländer\\t09.03.1859\\t08.01.1919\\twriter\\tPeter Altenberg', 2: 'Hermann Bahr\\t19.07.1863\\t15.01.1934\\twriter', 3: 'Felix Biedermann\\t29.05.1870\\t26.10.1928\\twriter\\tFelix Dörmann', 4: 'Hugo von Hofmannsthal\\t01.02.1974\\t15.07.1929\\twriter\\tLoris', 5: 'Karl Kraus\\t28.04.1874\\t12.06.1936\\twriter', 6: 'Fritz Kreisler\\t02.02.1875\\t29.01.1962\\tcomposer', 7: 'Siegmund Salzmann\\t06.09.1869\\t08.10.1945\\twriter\\tFelix Salten', 8: 'Arthur Schnitzler\\t15.05.1862\\t21.10.1931\\twriter', 9: 'Arnold Schönberg\\t13.09.1874\\t13.07.1951\\tcomposer', 10: 'Rudolf Steiner\\t27.02.1861\\t30.03.1925\\twriter', 11: 'Hugo Wolf\\t13.03.1860\\t22.02.1903\\tcomposer', 12: 'Stefan Zweig\\t28.11.1881\\t23.02.1942\\twriter', 13: 'Richard Beer-Hofmann\\t#11.07.1866\\t26.09.1945\\twriter', 14: 'Lou Andreas-Salomé\\t12.02.1861\\t05.02.1937\\twriter', 15: 'Josef Kainz\\t02.01.1858\\t20.09.1910\\tactor', 16: 'Otto Abrahamsohn\\t#05.02.1856\\t28.11.1912\\tdirector\\tOtto Brahm', 17: 'Paul Schlenther\\t20.08.1854\\t30.04.1914\\tdirector', 18: 'Paul Wertheimer\\t04.02.1887\\t19.03.1937\\twriter', 19: 'Leopold Ferdinand Freiherr von Andrian zu Werburg\\t09.05.1875\\t19.11.1951\\twriter\\tLeopold Andrian', 20: 'Anna von Mildenburg\\t29.11.1872\\t27.01.1947\\toperasinger', 21: 'Alfred Roller\\t02.10.1864\\t21.06.1935\\tpainter', 22: 'Koloman Moser\\t30.03.1868\\t18.10.1918\\tpainter', 23: 'Victor Hirschfeld\\t04.01.1858\\t03.02.1940\\twriter\\tVictor Léon', 24: 'Leo Fall\\t02.02.1873\\t16.09.1925\\tcomposer', 25: 'Clara Katharina Pollaczek\\t15.01.1875\\t22.07.1951\\twriter', 26: 'Wilhelm Wacek\\t28.10.1864\\t19.12.1944\\tmusician', 27: 'Max Burckhard\\t14.07.1854\\t16.03.1912\\twriter', 28: 'Georg Hirschfeld\\t11.02.1873\\t17.01.1942\\twriter', 29: 'Marie Chlum\\t03.07.1867\\t19.11.1925\\tactor\\tMarie Glümer', 30: 'Hermann Sudermann\\t30.09.1857\\t21.11.1928\\tNA', 31: 'Otto Eisenschitz\\t21.2.1863\\t11.09.1942\\twriter', 32: 'Kurt Friedrich Gödel\\t28.04.1906\\t14.01.1978\\tphilosopher', 33: 'Gustav Schwarzkopf\\t7. 11. 1853\\t13.11.1939\\twriter', 34: 'Clemens Krauss\\t31.3.1893\\t16.05.1954\\tconductor', 35: 'Paul Goldmann\\t31.01.1865\\t25.09.1935\\tjournalist', 36: 'Ernst Polak\\t4.8.1886\\t21.09.1947\\tliterary critic', 37: 'Regina Wiedner\\t21.10.1893\\t23.12.1985\\twriter\\tGina Kraus', 38: 'Albert Conrad Kiehtreiber\\t5.2.1887\\t16.05.1973\\tpainter\\tAlbert Paris Gütersloh', 39: 'Friedrich Eckstein\\t17.2.1861\\t10.11.1939\\twriter', 40: 'Ea von Allesch\\t11.5.1875\\t30.07.1953\\tjournalist', 41: 'Joseph Roth\\t02.09.1894\\t27.05.1939\\tjournalist', 42: 'Anton Kuh\\t12.06.1890\\t18.01.1941\\tjournalis', 43: 'Gustav Mahler\\t07.07.1860\\t18.05.1911\\tcomposer', 44: 'Moritz Coschell\\t18.09.1872\\t11.07.1943\\tpainter\\tMoritz Kocheles', 45: 'Oskar Kokoschka\\t01.03.1886\\t22.02.1980\\tpainter', 46: 'Franz Blei\\t18.01.1871\\t10.07.1942\\twriter', 47: 'Friedrich M. Fels\\t1864\\tnach 1899\\tjournalist', 48: 'Alfred Polgar\\t17.10.1873\\t24.04.1955\\twriter', 49: 'Elsa Plessner\\t22.08.1875\\t01.05.1932\\twriter\\tElsa Ginsburg', 50: 'Karl Hauer\\t20.10.1875\\t17.08.1919\\tjournalist', 51: 'Otto Soyka\\t09.05.1881\\t02.12.1955\\twriter', 52: 'Robert Musil\\t6.11.1880\\t15.04.1942\\twriter', 53: 'Emanuel Georg Josef Saiko\\t5.2.1892\\t23.12.1962\\twriter\\tGeorg Saiko', 54: 'Hermann Broch\\t1.11.1886\\t30.05.1951\\twriter', 55: 'Franz Werfel\\t10.9.1890\\t26.08.1945\\twriter', 56: 'Leo Perutz\\t2.11.1882\\t25.08.1957\\twriter', 57: 'Otto Pick\\t22.5.1887\\t25.10.1949\\twriter', 58: 'Otfried Krzyzanowski\\t25.6.1886\\t30.11.1918\\tbohemian', 59: 'Franz Carl Heimito Doderer\\t5.9.1896\\t23.12.1966\\twriter\\tHeimito von Doderer', 60: 'Otto Gross\\t17.3.1877\\t13.02.1929\\tpsychiatrist', 61: 'Adolf Loos\\t10.12.1870\\t23.08.1933\\tarchitect', 62: 'Egon Friedell\\t21.01.1878\\t16.03.1938\\tjournalist', 63: 'Felix Grafe\\t09.07.1888\\t18.12.1942\\twriter', 64: 'Bertha von Suttner\\t09.06.1843\\t21.06.1914\\twriter\\tB. Oulot', 65: 'Theodor Herzl\\t02.05.1860\\t03.07.1904\\twriter', 66: 'Anton Wildgans\\t17.04.1881\\t03.05.1932\\twriter', 67: 'Alfred Gold\\t28.06.1874\\t24.08.1958\\twriter', 68: 'Maria Reinhard\\t13.03.1871\\t18.03.1899\\tactress\\tMarie Reinhard', 69: 'Ottilie Metzl\\t07.03.1868\\t22.06.1942\\tactress\\tOttilie Salten', 70: 'Robert Hirschfeld\\t17.09.1857\\t02.04.1914\\tmusic critic\\tL. A. Terne', 71: 'Julius von Gans-Ludassy\\t13.04.1858\\t30.09.1922\\twriter\\tJulius von Goose', 72: 'Leopold Rosner\\t21.05.1838\\t23.07.1903\\tpublisher\\tHohenmarkt', 73: 'Oskar Friedmann\\t13.07.1872\\t03.11.1929\\twriter', 74: 'Ferdinand von Saar\\t30.09.1833\\t24.07.1906\\twriter', 75: 'Friedrich Kantor\\t16.09.1908\\t10.11.1979\\twriter\\tFriedrich Torberg', 76: 'Richard Rosenbaum\\t4. 11. 1867\\t25.07.1942\\tpublisher', 77: 'Lia Rosen\\t1893\\t1973\\tactress', 78: 'Olga Lewinsky\\t7.7.1853\\t26.06.1935\\tactress', 79: 'Katharina Schratt\\t11.09.1953\\t17.04.1949\\tactress', 80: 'Alfred von Berger\\t30.4.1853\\t24.08.1912\\tjournalist', 81: 'Ida Orloff\\t16. 2. 1889\\t09.04.1945\\tactress', 82: 'Hugo Thimig\\t16.6.1854\\t24.09.1944\\tactor', 83: 'Otto Karl August Meyer\\t13.4.1871\\t27.04.1965\\tactor\\tOtto Tressler', 84: 'Lotte Witt\\t23.4.1870\\t28.12.1938\\tactress', 85: 'Annie Rosar\\t17. 5. 1888\\t05.08.1963\\tactrss', 86: 'Hans Lackner\\t11. 5. 1876\\t16.03.1930\\tactor', 87: 'Alfred Gerasch\\t17. 8. 1877\\t12.08.1955\\tactor', 88: 'Alexander Girardi\\t5.12.1850\\t20.04.1918\\tactor', 89: 'Leopold Geiringer\\t04.08.1851\\t29.05.1900\\twriter\\tLeo Gerhard', 90: 'Emmerich von Bukovics\\t28.2.1844\\t04.07.1905\\tdirector', 91: 'Käthe Hannemann\\t31.5.1881\\tafter 1935\\tactress', 92: 'Alfred Bernau\\t6.3.1879\\t20.04.1950\\tactor', 93: 'Helene Petermann\\t31.7.1863\\t09.02.1939\\tactress\\tHelene Odilion', 94: 'Adolf Weiß\\t4.4.1855\\t17.07.1933\\tactor\\tAdolf Weisse', 95: 'Karl Wallner\\t1961\\tafter 1902\\tactor', 96: 'Wilhelm Karczag\\t28.8.1857\\t11.10.1923\\twriter', 97: 'Alexandrine von Schönerer\\t15.6.1850\\t28.11.1919\\tdirector', 98: 'Heinrich Schnitzler\\t09.08.1902\\t12.07.1982\\tactor\\tHenry Schnitzler', 99: 'Adam Müller\\t22.10.1852\\t05.01.1923\\twriter\\tAdam Müller-Guttenbrunn', 100: 'Josef Jarno\\t24.8.1866\\t11.01.1932\\tactor', 101: 'Maximilian Goldmann\\t9.9.1873\\t31.10.1943\\tdirector\\tMax Reinhardt', 102: 'Max Johann Heinrich Paulsen\\t18.11.1876\\t11.03.1956\\tDirector\\tPeter Petersen', 103: 'Wilhelm Grosz\\t11.08.1894\\t10.12.1939\\tcomposer', 104: 'Paul Brann\\t05. Jan\\t02.09.1955\\tactor', 105: 'Anton Bruckner\\t04.09.1924\\t11.10.1896\\tcomposer', 106: 'Erich Schamschula\\tNA\\tNA\\tmusican'}\n"
     ]
    }
   ],
   "source": [
    "print(person_dict)"
   ]
  },
  {
   "cell_type": "code",
   "execution_count": 3,
   "metadata": {},
   "outputs": [],
   "source": [
    "#kaffeehäuser dict\n",
    "\n",
    "kaffeehauser = [\"Café Griensteidl\tMichaelerplatz 2\", \"Café Imperial\tKärntner Ring 16\", \"Café Kremser\tKärntner Ring 8\", \"Café Union\tSchubertring 2\", \"Café Heydner\tGraben 29A\tCafé Schrangl\tCafé Pfob\tGrabenkaffee\", \"Arkadencafé\tUniversitätsstraße 3\", \"Café Scheidl\tKärntner Straße Ecke Walfischgasse\tCafé Fenstergucker\", \"Café Anker\tHoher Markt 10\tCafé Anker\", \"Café Reichsrath (Inh. Karl Auböck) / alternativ Café Auböck\tRathausplatz 8\tConditorei Sluka\", \"Café Scheuchenstuel\tClusiushaus (Wollzeile 10 Strobelgasse 2 Schulerstraße 5)\", \"Café Rebhuhn\tGoldschmiedgasse 6\", \"Café de l’Europe\tGraben 31\", \"Café Kaiserhof (Inh. Johann Wortner)\tReichsrathstraße 17\", \"Café Edison\tAlser Straße 9\", \"Café Central\tHerrengasse 14\", \"Café Kugel\tAm Hof 11\", \"Café Pucher\tKohlmarkt 8-10\", \"Café Stukart\tAlsergrund\", \"Café Parisfal\tWalfischgasse 13 Ecke Akademiestraße\", \"Café Herrenhof\tHerrengasse 10\", \"Café de L'Opéra\tOpernring 1\", \"Cafe Ritz\tSchubertring 5-7\"]\n",
    "k_indices = [1,2,3,4,5,9,10,12,13,14,15,16,17,18,21,22,23,24,25,26,27,28]\n",
    "\n",
    "kaffeehauser_dict = dict(zip(k_indices, kaffeehauser)) "
   ]
  },
  {
   "cell_type": "code",
   "execution_count": 4,
   "metadata": {},
   "outputs": [
    {
     "name": "stdout",
     "output_type": "stream",
     "text": [
      "{1: 'Café Griensteidl\\tMichaelerplatz 2', 2: 'Café Imperial\\tKärntner Ring 16', 3: 'Café Kremser\\tKärntner Ring 8', 4: 'Café Union\\tSchubertring 2', 5: 'Café Heydner\\tGraben 29A\\tCafé Schrangl\\tCafé Pfob\\tGrabenkaffee', 9: 'Arkadencafé\\tUniversitätsstraße 3', 10: 'Café Scheidl\\tKärntner Straße Ecke Walfischgasse\\tCafé Fenstergucker', 12: 'Café Anker\\tHoher Markt 10\\tCafé Anker', 13: 'Café Reichsrath (Inh. Karl Auböck) / alternativ Café Auböck\\tRathausplatz 8\\tConditorei Sluka', 14: 'Café Scheuchenstuel\\tClusiushaus (Wollzeile 10 Strobelgasse 2 Schulerstraße 5)', 15: 'Café Rebhuhn\\tGoldschmiedgasse 6', 16: 'Café de l’Europe\\tGraben 31', 17: 'Café Kaiserhof (Inh. Johann Wortner)\\tReichsrathstraße 17', 18: 'Café Edison\\tAlser Straße 9', 21: 'Café Central\\tHerrengasse 14', 22: 'Café Kugel\\tAm Hof 11', 23: 'Café Pucher\\tKohlmarkt 8-10', 24: 'Café Stukart\\tAlsergrund', 25: 'Café Parisfal\\tWalfischgasse 13 Ecke Akademiestraße', 26: 'Café Herrenhof\\tHerrengasse 10', 27: \"Café de L'Opéra\\tOpernring 1\", 28: 'Cafe Ritz\\tSchubertring 5-7'}\n"
     ]
    }
   ],
   "source": [
    "print(kaffeehauser_dict)"
   ]
  },
  {
   "cell_type": "code",
   "execution_count": 5,
   "metadata": {},
   "outputs": [],
   "source": [
    "# works dict\n",
    "\n",
    "works = [\"Die Fackel\t1899-1936\", \"Zeitgeist im Literaturcafé\t1983\", \"Central und Herrenhof\t1981\", \"Kaffeehaus war überall\t1982\", \"So wurde ich\t1913\", \"Die Theorie des Café Central.\t1926\", \"Über Adolf Loos. Karriere im Café Central.\t1971\", \"Das Kaffeehaus als Bildungsstätte. Jugend im Griensteidl.\t1944\", \"Das Burgtheater - Naturgeschichte eines alten Hauses\t1922\", \"Café de L'Opéra (im Prater)\t1901\", \"Ich trinke Tee\t1906\", \"Der Tag des Reichtums\t1911\", \"La Zarina\t1902\", \"Die demolierte Literatur\t1899\"]\n",
    "w_indices = [1,2,3,4,5,6,7,8,9,10,11,12,13,14]\n",
    "\n",
    "works_dict = dict(zip(w_indices, works)) "
   ]
  },
  {
   "cell_type": "code",
   "execution_count": 6,
   "metadata": {},
   "outputs": [
    {
     "name": "stdout",
     "output_type": "stream",
     "text": [
      "{1: 'Die Fackel\\t1899-1936', 2: 'Zeitgeist im Literaturcafé\\t1983', 3: 'Central und Herrenhof\\t1981', 4: 'Kaffeehaus war überall\\t1982', 5: 'So wurde ich\\t1913', 6: 'Die Theorie des Café Central.\\t1926', 7: 'Über Adolf Loos. Karriere im Café Central.\\t1971', 8: 'Das Kaffeehaus als Bildungsstätte. Jugend im Griensteidl.\\t1944', 9: 'Das Burgtheater - Naturgeschichte eines alten Hauses\\t1922', 10: \"Café de L'Opéra (im Prater)\\t1901\", 11: 'Ich trinke Tee\\t1906', 12: 'Der Tag des Reichtums\\t1911', 13: 'La Zarina\\t1902', 14: 'Die demolierte Literatur\\t1899'}\n"
     ]
    }
   ],
   "source": [
    "print(works_dict)"
   ]
  },
  {
   "cell_type": "code",
   "execution_count": 7,
   "metadata": {},
   "outputs": [],
   "source": [
    "# insitutions dict\n",
    "\n",
    "institutions = [\"Die Fackel\tjournal\", \"Die Zeit\tjournal\", \"Der Morgen\tjournal\", \"Wiener Allgemeine Zeitung\tjournal\", \"Manz’sche Verlags- und Universitätsbuchhandlung\tpublisher\", \"Wiener Verlag\tpublisher\", \"Burgtheater\ttheatre\", \"Volkstheater\ttheatre\", \"Theater an der Wien\ttheatre\", \"Raimundtheater\ttheatre\", \"Theater in der Josefstadt\ttheatre\", \"Akademietheater\ttheatre\", \"Wassermann\tartists association\", \"Burgmusik - Militärmusik\tmusical group\", \"Hoch- und Deutschmeisterkapell\tmusical group\", \"Wiener Philharmoniker\tmusical group\", \"Rosé-Quartett\tmusical group\"]\n",
    "i_indices = [1,2,3,4,5,6,7,8,9,10,11,12,13,14,15,16,17]\n",
    "\n",
    "institutions_dict = dict(zip(i_indices, institutions))"
   ]
  },
  {
   "cell_type": "code",
   "execution_count": 8,
   "metadata": {},
   "outputs": [
    {
     "name": "stdout",
     "output_type": "stream",
     "text": [
      "{1: 'Die Fackel\\tjournal', 2: 'Die Zeit\\tjournal', 3: 'Der Morgen\\tjournal', 4: 'Wiener Allgemeine Zeitung\\tjournal', 5: 'Manz’sche Verlags- und Universitätsbuchhandlung\\tpublisher', 6: 'Wiener Verlag\\tpublisher', 7: 'Burgtheater\\ttheatre', 8: 'Volkstheater\\ttheatre', 9: 'Theater an der Wien\\ttheatre', 10: 'Raimundtheater\\ttheatre', 11: 'Theater in der Josefstadt\\ttheatre', 12: 'Akademietheater\\ttheatre', 13: 'Wassermann\\tartists association', 14: 'Burgmusik - Militärmusik\\tmusical group', 15: 'Hoch- und Deutschmeisterkapell\\tmusical group', 16: 'Wiener Philharmoniker\\tmusical group', 17: 'Rosé-Quartett\\tmusical group'}\n"
     ]
    }
   ],
   "source": [
    "print(institutions_dict)"
   ]
  },
  {
   "cell_type": "code",
   "execution_count": 9,
   "metadata": {},
   "outputs": [
    {
     "name": "stdout",
     "output_type": "stream",
     "text": [
      "['Café Griensteidl\\tMichaelerplatz 2', 'Café Griensteidl\\tMichaelerplatz 2', 'Café Griensteidl\\tMichaelerplatz 2', 'Café Griensteidl\\tMichaelerplatz 2', 'Café Griensteidl\\tMichaelerplatz 2', 'Café Griensteidl\\tMichaelerplatz 2', 'Café Griensteidl\\tMichaelerplatz 2', 'Café Griensteidl\\tMichaelerplatz 2', 'Café Griensteidl\\tMichaelerplatz 2', 'Café Griensteidl\\tMichaelerplatz 2', 'Café Griensteidl\\tMichaelerplatz 2', 'Café Griensteidl\\tMichaelerplatz 2', 'Café Griensteidl\\tMichaelerplatz 2', 'Café Griensteidl\\tMichaelerplatz 2', 'Café Griensteidl\\tMichaelerplatz 2', 'Café Griensteidl\\tMichaelerplatz 2', 'Café Griensteidl\\tMichaelerplatz 2', 'Café Griensteidl\\tMichaelerplatz 2', 'Café Griensteidl\\tMichaelerplatz 2', 'Café Imperial\\tKärntner Ring 16', 'Café Imperial\\tKärntner Ring 16', 'Café Imperial\\tKärntner Ring 16', 'Café Imperial\\tKärntner Ring 16', 'Café Imperial\\tKärntner Ring 16', 'Café Imperial\\tKärntner Ring 16', 'Café Imperial\\tKärntner Ring 16', 'Café Imperial\\tKärntner Ring 16', 'Café Imperial\\tKärntner Ring 16', 'Café Imperial\\tKärntner Ring 16', 'Café Kremser\\tKärntner Ring 8', 'Café Kremser\\tKärntner Ring 8', 'Café Kremser\\tKärntner Ring 8', 'Café Kremser\\tKärntner Ring 8', 'Café Union\\tSchubertring 2', 'Café Union\\tSchubertring 2', 'Café Union\\tSchubertring 2', 'Café Union\\tSchubertring 2', 'Café Heydner\\tGraben 29A\\tCafé Schrangl\\tCafé Pfob\\tGrabenkaffee', 'Café Heydner\\tGraben 29A\\tCafé Schrangl\\tCafé Pfob\\tGrabenkaffee', 'Café Heydner\\tGraben 29A\\tCafé Schrangl\\tCafé Pfob\\tGrabenkaffee', 'Café Heydner\\tGraben 29A\\tCafé Schrangl\\tCafé Pfob\\tGrabenkaffee', 'Café Heydner\\tGraben 29A\\tCafé Schrangl\\tCafé Pfob\\tGrabenkaffee', 'Arkadencafé\\tUniversitätsstraße 3', 'Arkadencafé\\tUniversitätsstraße 3', 'Arkadencafé\\tUniversitätsstraße 3', 'Arkadencafé\\tUniversitätsstraße 3', 'Arkadencafé\\tUniversitätsstraße 3', 'Arkadencafé\\tUniversitätsstraße 3', 'Arkadencafé\\tUniversitätsstraße 3', 'Café Scheidl\\tKärntner Straße Ecke Walfischgasse\\tCafé Fenstergucker', 'Café Scheidl\\tKärntner Straße Ecke Walfischgasse\\tCafé Fenstergucker', 'Café Scheidl\\tKärntner Straße Ecke Walfischgasse\\tCafé Fenstergucker', 'Café Anker\\tHoher Markt 10\\tCafé Anker', 'Café Anker\\tHoher Markt 10\\tCafé Anker', 'Café Reichsrath (Inh. Karl Auböck) / alternativ Café Auböck\\tRathausplatz 8\\tConditorei Sluka', 'Café Reichsrath (Inh. Karl Auböck) / alternativ Café Auböck\\tRathausplatz 8\\tConditorei Sluka', 'Café Reichsrath (Inh. Karl Auböck) / alternativ Café Auböck\\tRathausplatz 8\\tConditorei Sluka', 'Café Scheuchenstuel\\tClusiushaus (Wollzeile 10 Strobelgasse 2 Schulerstraße 5)', 'Café Scheuchenstuel\\tClusiushaus (Wollzeile 10 Strobelgasse 2 Schulerstraße 5)', 'Café Scheuchenstuel\\tClusiushaus (Wollzeile 10 Strobelgasse 2 Schulerstraße 5)', 'Café Scheuchenstuel\\tClusiushaus (Wollzeile 10 Strobelgasse 2 Schulerstraße 5)', 'Café Rebhuhn\\tGoldschmiedgasse 6', 'Café Rebhuhn\\tGoldschmiedgasse 6', 'Café Rebhuhn\\tGoldschmiedgasse 6', 'Café Rebhuhn\\tGoldschmiedgasse 6', 'Café Rebhuhn\\tGoldschmiedgasse 6', 'Café de l’Europe\\tGraben 31', 'Café de l’Europe\\tGraben 31', 'Café de l’Europe\\tGraben 31', 'Café de l’Europe\\tGraben 31', 'Café de l’Europe\\tGraben 31', 'Café de l’Europe\\tGraben 31', 'Café de l’Europe\\tGraben 31', 'Café de l’Europe\\tGraben 31', 'Café de l’Europe\\tGraben 31', 'Café Edison\\tAlser Straße 9', 'Café Reichsrath (Inh. Karl Auböck) / alternativ Café Auböck\\tRathausplatz 8\\tConditorei Sluka', 'Café Central\\tHerrengasse 14', 'Café Central\\tHerrengasse 14', 'Café Central\\tHerrengasse 14', 'Café Central\\tHerrengasse 14', 'Café Central\\tHerrengasse 14', 'Café Central\\tHerrengasse 14', 'Café Central\\tHerrengasse 14', 'Café Kugel\\tAm Hof 11', 'Café Kugel\\tAm Hof 11', 'Café Kugel\\tAm Hof 11', 'Café Pucher\\tKohlmarkt 8-10', 'Café Pucher\\tKohlmarkt 8-10', 'Café Pucher\\tKohlmarkt 8-10', 'Café Pucher\\tKohlmarkt 8-10', 'Café Pucher\\tKohlmarkt 8-10', 'Café Pucher\\tKohlmarkt 8-10', 'Café Pucher\\tKohlmarkt 8-10', 'Café Pucher\\tKohlmarkt 8-10', 'Café Stukart\\tAlsergrund', 'Café Parisfal\\tWalfischgasse 13 Ecke Akademiestraße', 'Café Parisfal\\tWalfischgasse 13 Ecke Akademiestraße', 'Café Parisfal\\tWalfischgasse 13 Ecke Akademiestraße', 'Café Parisfal\\tWalfischgasse 13 Ecke Akademiestraße', 'Café Herrenhof\\tHerrengasse 10', 'Café Herrenhof\\tHerrengasse 10', 'Café Herrenhof\\tHerrengasse 10', 'Café Herrenhof\\tHerrengasse 10', 'Café Herrenhof\\tHerrengasse 10', 'Café Herrenhof\\tHerrengasse 10', 'Café Herrenhof\\tHerrengasse 10', 'Café Herrenhof\\tHerrengasse 10', 'Café Herrenhof\\tHerrengasse 10', 'Café Herrenhof\\tHerrengasse 10', 'Café Herrenhof\\tHerrengasse 10', 'Café Herrenhof\\tHerrengasse 10', 'Café Herrenhof\\tHerrengasse 10', 'Café Herrenhof\\tHerrengasse 10', 'Café Herrenhof\\tHerrengasse 10', 'Café Herrenhof\\tHerrengasse 10', 'Café Imperial\\tKärntner Ring 16', 'Café de l’Europe\\tGraben 31', 'Café Herrenhof\\tHerrengasse 10', 'Café Central\\tHerrengasse 14', 'Café Rebhuhn\\tGoldschmiedgasse 6', 'Café Central\\tHerrengasse 14', 'Café Central\\tHerrengasse 14', 'Café Heydner\\tGraben 29A\\tCafé Schrangl\\tCafé Pfob\\tGrabenkaffee']\n"
     ]
    }
   ],
   "source": [
    "#frequented\n",
    "\n",
    "#Daten für alle Personen in der Liste bekommen\n",
    "\n",
    "persons_frequented_indices = [1,2,3,4,5,6,7,8,9,10,11,12,13,14,18,19,20,21,22,2,4,7,8,13,15,16,17,23,24,4,7,8,13,4,7,8,25,4,8,13,1,26,2,4,7,8,13,27,28,2,8,30,8,25,45,8,31,13,33,4,8,43,42,4,13,8,7,13,4,35,44,29,33,16,8,8,32,8,4,2,7,46,13,5,48,8,4,5,49,8,13,4,1,50,51,8,43,5,52,53,36,37,38,39,40,48,54,55,56,57,59,58,60,51,41,52,39,42,75,75,75,48,45,12]\n",
    "\n",
    "persons_frequented_data = [person_dict[person] for person in persons_frequented_indices]\n",
    "\n",
    "\n",
    "\n",
    "kaffeehauser_frequented_indices = [1,1,1,1,1,1,1,1,1,1,1,1,1,1,1,1,1,1,1,2,2,2,2,2,2,2,2,2,2,3,3,3,3,4,4,4,4,5,5,5,5,5,9,9,9,9,9,9,9,10,10,10,12,12,13,13,13,14,14,14,14,15,15,15,15,15,16,16,16,16,16,16,16,16,16,18,13,21,21,21,21,21,21,21,22,22,22,23,23,23,23,23,23,23,23,24,25,25,25,25,26,26,26,26,26,26,26,26,26,26,26,26,26,26,26,26,2,16,26,21,15,21,21,5]\n",
    "\n",
    "kaffeehauser_frequented_data = [kaffeehauser_dict[kaffeehaus] for kaffeehaus in kaffeehauser_frequented_indices]\n",
    "\n",
    "\n",
    "print(kaffeehauser_frequented_data)\n",
    "\n"
   ]
  },
  {
   "cell_type": "code",
   "execution_count": 10,
   "metadata": {},
   "outputs": [
    {
     "data": {
      "text/plain": [
       "['Die Fackel\\t1899-1936',\n",
       " 'Die Fackel\\t1899-1936',\n",
       " 'Die Fackel\\t1899-1936',\n",
       " 'Die Fackel\\t1899-1936',\n",
       " 'Die Fackel\\t1899-1936',\n",
       " 'Die Fackel\\t1899-1936',\n",
       " 'Die Fackel\\t1899-1936',\n",
       " 'Zeitgeist im Literaturcafé\\t1983',\n",
       " 'Central und Herrenhof\\t1981',\n",
       " 'Kaffeehaus war überall\\t1982',\n",
       " 'So wurde ich\\t1913',\n",
       " 'Die Theorie des Café Central.\\t1926',\n",
       " 'Über Adolf Loos. Karriere im Café Central.\\t1971',\n",
       " 'Das Kaffeehaus als Bildungsstätte. Jugend im Griensteidl.\\t1944',\n",
       " 'Das Burgtheater - Naturgeschichte eines alten Hauses\\t1922',\n",
       " 'Die Fackel\\t1899-1936',\n",
       " 'Die Fackel\\t1899-1936',\n",
       " 'Die Fackel\\t1899-1936',\n",
       " 'Die Fackel\\t1899-1936',\n",
       " 'So wurde ich\\t1913']"
      ]
     },
     "execution_count": 10,
     "metadata": {},
     "output_type": "execute_result"
    }
   ],
   "source": [
    "#contributed_to \n",
    "\n",
    "\n",
    "persons_contributing_indices = [5,1,61,50,62,63,4,42,42,75,1,48,45,12,7,10,11,12,13,14]\n",
    "persons_contributing_data = [person_dict[person] for person in persons_contributing_indices]\n",
    "\n",
    "\n",
    "works_contributed_to_indices = [1,1,1,1,1,1,1,2,3,4,5,6,7,8,9,1,1,1,1,5]\n",
    "works_contributed_data = [works_dict[work] for work in works_contributed_to_indices]\n",
    "\n",
    "works_contributed_data"
   ]
  },
  {
   "cell_type": "code",
   "execution_count": 11,
   "metadata": {},
   "outputs": [
    {
     "name": "stdout",
     "output_type": "stream",
     "text": [
      "['Zeitgeist im Literaturcafé\\t1983', 'Central und Herrenhof\\t1981', 'Central und Herrenhof\\t1981', 'Kaffeehaus war überall\\t1982', 'Kaffeehaus war überall\\t1982', 'Kaffeehaus war überall\\t1982', 'Kaffeehaus war überall\\t1982', 'So wurde ich\\t1913', 'Die Theorie des Café Central.\\t1926', 'Über Adolf Loos. Karriere im Café Central.\\t1971', 'Das Kaffeehaus als Bildungsstätte. Jugend im Griensteidl.\\t1944', \"Café de L'Opéra (im Prater)\\t1901\", 'Ich trinke Tee\\t1906', 'Der Tag des Reichtums\\t1911', 'La Zarina\\t1902', 'Die demolierte Literatur\\t1899']\n"
     ]
    }
   ],
   "source": [
    "works_referencing_i = [2,3,3,4,4,4,4,5,6,7,8,10,11,12,13,14]\n",
    "works_referencing_data = [works_dict[work] for work in works_referencing_i]\n",
    "print(works_referencing_data)"
   ]
  },
  {
   "cell_type": "code",
   "execution_count": 12,
   "metadata": {},
   "outputs": [
    {
     "data": {
      "text/plain": [
       "['Café de l’Europe\\tGraben 31',\n",
       " 'Café Herrenhof\\tHerrengasse 10',\n",
       " 'Café Central\\tHerrengasse 14',\n",
       " 'Café Herrenhof\\tHerrengasse 10',\n",
       " 'Café Central\\tHerrengasse 14',\n",
       " 'Café Griensteidl\\tMichaelerplatz 2',\n",
       " 'Café Rebhuhn\\tGoldschmiedgasse 6',\n",
       " 'Café Central\\tHerrengasse 14',\n",
       " 'Café Central\\tHerrengasse 14',\n",
       " 'Café Central\\tHerrengasse 14',\n",
       " 'Café Griensteidl\\tMichaelerplatz 2',\n",
       " 'Café Herrenhof\\tHerrengasse 10',\n",
       " 'Café Central\\tHerrengasse 14',\n",
       " 'Cafe Ritz\\tSchubertring 5-7',\n",
       " 'Cafe Ritz\\tSchubertring 5-7',\n",
       " 'Café Griensteidl\\tMichaelerplatz 2']"
      ]
     },
     "execution_count": 12,
     "metadata": {},
     "output_type": "execute_result"
    }
   ],
   "source": [
    "k_referenced_i = [16,26,21,26,21,1,15,21,21,21,1,26,21,28,28,1]\n",
    "kaffeehauser_referenced_data = [kaffeehauser_dict[kaffeehaus] for kaffeehaus in k_referenced_i]\n",
    "kaffeehauser_referenced_data"
   ]
  },
  {
   "cell_type": "code",
   "execution_count": 13,
   "metadata": {
    "scrolled": false
   },
   "outputs": [
    {
     "data": {
      "text/plain": [
       "['Karl Kraus\\t28.04.1874\\t12.06.1936\\twriter',\n",
       " 'Arthur Schnitzler\\t15.05.1862\\t21.10.1931\\twriter',\n",
       " 'Hermann Bahr\\t19.07.1863\\t15.01.1934\\twriter',\n",
       " 'Richard Engländer\\t09.03.1859\\t08.01.1919\\twriter\\tPeter Altenberg',\n",
       " 'Adolf Loos\\t10.12.1870\\t23.08.1933\\tarchitect',\n",
       " 'Karl Hauer\\t20.10.1875\\t17.08.1919\\tjournalist',\n",
       " 'Egon Friedell\\t21.01.1878\\t16.03.1938\\tjournalist',\n",
       " 'Felix Grafe\\t09.07.1888\\t18.12.1942\\twriter',\n",
       " 'Hugo von Hofmannsthal\\t01.02.1974\\t15.07.1929\\twriter\\tLoris',\n",
       " 'Hermann Bahr\\t19.07.1863\\t15.01.1934\\twriter',\n",
       " 'Bertha von Suttner\\t09.06.1843\\t21.06.1914\\twriter\\tB. Oulot',\n",
       " 'Siegmund Salzmann\\t06.09.1869\\t08.10.1945\\twriter\\tFelix Salten',\n",
       " 'Theodor Herzl\\t02.05.1860\\t03.07.1904\\twriter',\n",
       " 'Hugo von Hofmannsthal\\t01.02.1974\\t15.07.1929\\twriter\\tLoris',\n",
       " 'Anton Wildgans\\t17.04.1881\\t03.05.1932\\twriter',\n",
       " 'Richard Beer-Hofmann\\t#11.07.1866\\t26.09.1945\\twriter',\n",
       " 'Max Burckhard\\t14.07.1854\\t16.03.1912\\twriter',\n",
       " 'Arthur Schnitzler\\t15.05.1862\\t21.10.1931\\twriter',\n",
       " 'Alfred Gold\\t28.06.1874\\t24.08.1958\\twriter',\n",
       " 'Maria Reinhard\\t13.03.1871\\t18.03.1899\\tactress\\tMarie Reinhard',\n",
       " 'Gustav Schwarzkopf\\t7. 11. 1853\\t13.11.1939\\twriter',\n",
       " 'Siegmund Salzmann\\t06.09.1869\\t08.10.1945\\twriter\\tFelix Salten',\n",
       " 'Hermann Bahr\\t19.07.1863\\t15.01.1934\\twriter',\n",
       " 'Arthur Schnitzler\\t15.05.1862\\t21.10.1931\\twriter',\n",
       " 'Fritz Kreisler\\t02.02.1875\\t29.01.1962\\tcomposer',\n",
       " 'Robert Hirschfeld\\t17.09.1857\\t02.04.1914\\tmusic critic\\tL. A. Terne',\n",
       " 'Friedrich M. Fels\\t1864\\tnach 1899\\tjournalist',\n",
       " 'Arthur Schnitzler\\t15.05.1862\\t21.10.1931\\twriter',\n",
       " 'Julius von Gans-Ludassy\\t13.04.1858\\t30.09.1922\\twriter\\tJulius von Goose',\n",
       " 'Siegmund Salzmann\\t06.09.1869\\t08.10.1945\\twriter\\tFelix Salten',\n",
       " 'Richard Engländer\\t09.03.1859\\t08.01.1919\\twriter\\tPeter Altenberg',\n",
       " 'Hugo von Hofmannsthal\\t01.02.1974\\t15.07.1929\\twriter\\tLoris',\n",
       " 'Arthur Schnitzler\\t15.05.1862\\t21.10.1931\\twriter',\n",
       " 'Hermann Bahr\\t19.07.1863\\t15.01.1934\\twriter',\n",
       " 'Richard Beer-Hofmann\\t#11.07.1866\\t26.09.1945\\twriter',\n",
       " 'Adolf Loos\\t10.12.1870\\t23.08.1933\\tarchitect',\n",
       " 'Oskar Kokoschka\\t01.03.1886\\t22.02.1980\\tpainter',\n",
       " 'Leopold Rosner\\t21.05.1838\\t23.07.1903\\tpublisher\\tHohenmarkt',\n",
       " 'Egon Friedell\\t21.01.1878\\t16.03.1938\\tjournalist',\n",
       " 'Oskar Friedmann\\t13.07.1872\\t03.11.1929\\twriter',\n",
       " 'Arthur Schnitzler\\t15.05.1862\\t21.10.1931\\twriter',\n",
       " 'Felix Biedermann\\t29.05.1870\\t26.10.1928\\twriter\\tFelix Dörmann',\n",
       " 'Hermann Bahr\\t19.07.1863\\t15.01.1934\\twriter',\n",
       " 'Robert Musil\\t6.11.1880\\t15.04.1942\\twriter',\n",
       " 'Hugo von Hofmannsthal\\t01.02.1974\\t15.07.1929\\twriter\\tLoris',\n",
       " 'Ferdinand von Saar\\t30.09.1833\\t24.07.1906\\twriter',\n",
       " 'Theodor Herzl\\t02.05.1860\\t03.07.1904\\twriter',\n",
       " 'Max Burckhard\\t14.07.1854\\t16.03.1912\\twriter',\n",
       " 'Josef Kainz\\t02.01.1858\\t20.09.1910\\tactor',\n",
       " 'Richard Rosenbaum\\t4. 11. 1867\\t25.07.1942\\tpublisher',\n",
       " 'Otto Abrahamsohn\\t#05.02.1856\\t28.11.1912\\tdirector\\tOtto Brahm',\n",
       " 'Paul Schlenther\\t20.08.1854\\t30.04.1914\\tdirector',\n",
       " 'Max Burckhard\\t14.07.1854\\t16.03.1912\\twriter',\n",
       " 'Lia Rosen\\t1893\\t1973\\tactress',\n",
       " 'Olga Lewinsky\\t7.7.1853\\t26.06.1935\\tactress',\n",
       " 'Katharina Schratt\\t11.09.1953\\t17.04.1949\\tactress',\n",
       " 'Alfred von Berger\\t30.4.1853\\t24.08.1912\\tjournalist',\n",
       " 'Ida Orloff\\t16. 2. 1889\\t09.04.1945\\tactress',\n",
       " 'Hugo Thimig\\t16.6.1854\\t24.09.1944\\tactor',\n",
       " 'Gustav Schwarzkopf\\t7. 11. 1853\\t13.11.1939\\twriter',\n",
       " 'Otto Karl August Meyer\\t13.4.1871\\t27.04.1965\\tactor\\tOtto Tressler',\n",
       " 'Lotte Witt\\t23.4.1870\\t28.12.1938\\tactress',\n",
       " 'Annie Rosar\\t17. 5. 1888\\t05.08.1963\\tactrss',\n",
       " 'Hans Lackner\\t11. 5. 1876\\t16.03.1930\\tactor',\n",
       " 'Alfred Gerasch\\t17. 8. 1877\\t12.08.1955\\tactor',\n",
       " 'Anton Wildgans\\t17.04.1881\\t03.05.1932\\twriter',\n",
       " 'Alexander Girardi\\t5.12.1850\\t20.04.1918\\tactor',\n",
       " 'Leopold Geiringer\\t04.08.1851\\t29.05.1900\\twriter\\tLeo Gerhard',\n",
       " 'Emmerich von Bukovics\\t28.2.1844\\t04.07.1905\\tdirector',\n",
       " 'Käthe Hannemann\\t31.5.1881\\tafter 1935\\tactress',\n",
       " 'Alfred Bernau\\t6.3.1879\\t20.04.1950\\tactor',\n",
       " 'Helene Petermann\\t31.7.1863\\t09.02.1939\\tactress\\tHelene Odilion',\n",
       " 'Adolf Weiß\\t4.4.1855\\t17.07.1933\\tactor\\tAdolf Weisse',\n",
       " 'Karl Wallner\\t1961\\tafter 1902\\tactor',\n",
       " 'Wilhelm Karczag\\t28.8.1857\\t11.10.1923\\twriter',\n",
       " 'Alexandrine von Schönerer\\t15.6.1850\\t28.11.1919\\tdirector',\n",
       " 'Heinrich Schnitzler\\t09.08.1902\\t12.07.1982\\tactor\\tHenry Schnitzler',\n",
       " 'Adam Müller\\t22.10.1852\\t05.01.1923\\twriter\\tAdam Müller-Guttenbrunn',\n",
       " 'Hermann Bahr\\t19.07.1863\\t15.01.1934\\twriter',\n",
       " 'Wilhelm Karczag\\t28.8.1857\\t11.10.1923\\twriter',\n",
       " 'Heinrich Schnitzler\\t09.08.1902\\t12.07.1982\\tactor\\tHenry Schnitzler',\n",
       " 'Richard Beer-Hofmann\\t#11.07.1866\\t26.09.1945\\twriter',\n",
       " 'Josef Jarno\\t24.8.1866\\t11.01.1932\\tactor',\n",
       " 'Maximilian Goldmann\\t9.9.1873\\t31.10.1943\\tdirector\\tMax Reinhardt',\n",
       " 'Max Johann Heinrich Paulsen\\t18.11.1876\\t11.03.1956\\tDirector\\tPeter Petersen',\n",
       " 'Anton Wildgans\\t17.04.1881\\t03.05.1932\\twriter',\n",
       " 'Alexander Girardi\\t5.12.1850\\t20.04.1918\\tactor',\n",
       " 'Alexander Girardi\\t5.12.1850\\t20.04.1918\\tactor',\n",
       " 'Alexander Girardi\\t5.12.1850\\t20.04.1918\\tactor',\n",
       " 'Hugo Thimig\\t16.6.1854\\t24.09.1944\\tactor',\n",
       " 'Wilhelm Grosz\\t11.08.1894\\t10.12.1939\\tcomposer',\n",
       " 'Arnold Schönberg\\t13.09.1874\\t13.07.1951\\tcomposer',\n",
       " 'Anton Bruckner\\t04.09.1924\\t11.10.1896\\tcomposer',\n",
       " 'Arthur Schnitzler\\t15.05.1862\\t21.10.1931\\twriter',\n",
       " 'Richard Beer-Hofmann\\t#11.07.1866\\t26.09.1945\\twriter']"
      ]
     },
     "execution_count": 13,
     "metadata": {},
     "output_type": "execute_result"
    }
   ],
   "source": [
    "persons_associated_i = [5,8,2,1,61,50,62,63,4,2,64,7,65,4,66,13,27,8,67,68,33,7,2,8,6,70,47,8,71,7,1,4,8,2,13,61,45,72,62,73,8,3,2,52,4,74,65,27,15,76,16,17,27,77,78,79,80,81,82,33,83,84,85,86,87,66,88,89,90,91,92,93,94,95,96,97,98,99,2,96,98,13,100,101,102,66,88,88,88,82,103,9,105,8,13]\n",
    "\n",
    "persons_a_data = [person_dict[person] for person in persons_associated_i]\n",
    "persons_a_data"
   ]
  },
  {
   "cell_type": "code",
   "execution_count": 14,
   "metadata": {},
   "outputs": [
    {
     "name": "stdout",
     "output_type": "stream",
     "text": [
      "['Die Fackel\\tjournal', 'Die Fackel\\tjournal', 'Die Fackel\\tjournal', 'Die Fackel\\tjournal', 'Die Fackel\\tjournal', 'Die Fackel\\tjournal', 'Die Fackel\\tjournal', 'Die Fackel\\tjournal', 'Die Fackel\\tjournal', 'Die Zeit\\tjournal', 'Die Zeit\\tjournal', 'Die Zeit\\tjournal', 'Die Zeit\\tjournal', 'Die Zeit\\tjournal', 'Die Zeit\\tjournal', 'Die Zeit\\tjournal', 'Die Zeit\\tjournal', 'Die Zeit\\tjournal', 'Die Zeit\\tjournal', 'Die Zeit\\tjournal', 'Die Zeit\\tjournal', 'Der Morgen\\tjournal', 'Der Morgen\\tjournal', 'Der Morgen\\tjournal', 'Wiener Allgemeine Zeitung\\tjournal', 'Wiener Allgemeine Zeitung\\tjournal', 'Wiener Allgemeine Zeitung\\tjournal', 'Wiener Allgemeine Zeitung\\tjournal', 'Wiener Allgemeine Zeitung\\tjournal', 'Wiener Allgemeine Zeitung\\tjournal', 'Wiener Allgemeine Zeitung\\tjournal', 'Manz’sche Verlags- und Universitätsbuchhandlung\\tpublisher', 'Manz’sche Verlags- und Universitätsbuchhandlung\\tpublisher', 'Manz’sche Verlags- und Universitätsbuchhandlung\\tpublisher', 'Manz’sche Verlags- und Universitätsbuchhandlung\\tpublisher', 'Manz’sche Verlags- und Universitätsbuchhandlung\\tpublisher', 'Manz’sche Verlags- und Universitätsbuchhandlung\\tpublisher', 'Wiener Verlag\\tpublisher', 'Wiener Verlag\\tpublisher', 'Wiener Verlag\\tpublisher', 'Wiener Verlag\\tpublisher', 'Wiener Verlag\\tpublisher', 'Wiener Verlag\\tpublisher', 'Wiener Verlag\\tpublisher', 'Wiener Verlag\\tpublisher', 'Wiener Verlag\\tpublisher', 'Wiener Verlag\\tpublisher', 'Wiener Verlag\\tpublisher', 'Burgtheater\\ttheatre', 'Burgtheater\\ttheatre', 'Burgtheater\\ttheatre', 'Burgtheater\\ttheatre', 'Burgtheater\\ttheatre', 'Burgtheater\\ttheatre', 'Burgtheater\\ttheatre', 'Burgtheater\\ttheatre', 'Burgtheater\\ttheatre', 'Burgtheater\\ttheatre', 'Burgtheater\\ttheatre', 'Burgtheater\\ttheatre', 'Burgtheater\\ttheatre', 'Burgtheater\\ttheatre', 'Burgtheater\\ttheatre', 'Burgtheater\\ttheatre', 'Burgtheater\\ttheatre', 'Burgtheater\\ttheatre', 'Burgtheater\\ttheatre', 'Volkstheater\\ttheatre', 'Volkstheater\\ttheatre', 'Volkstheater\\ttheatre', 'Volkstheater\\ttheatre', 'Volkstheater\\ttheatre', 'Volkstheater\\ttheatre', 'Volkstheater\\ttheatre', 'Theater an der Wien\\ttheatre', 'Theater an der Wien\\ttheatre', 'Raimundtheater\\ttheatre', 'Raimundtheater\\ttheatre', 'Raimundtheater\\ttheatre', 'Raimundtheater\\ttheatre', 'Theater in der Josefstadt\\ttheatre', 'Theater in der Josefstadt\\ttheatre', 'Theater in der Josefstadt\\ttheatre', 'Theater in der Josefstadt\\ttheatre', 'Akademietheater\\ttheatre', 'Akademietheater\\ttheatre', 'Volkstheater\\ttheatre', 'Theater an der Wien\\ttheatre', 'Raimundtheater\\ttheatre', 'Theater in der Josefstadt\\ttheatre', 'Wassermann\\tartists association', 'Burgmusik - Militärmusik\\tmusical group', 'Wiener Philharmoniker\\tmusical group', 'Rosé-Quartett\\tmusical group', 'Rosé-Quartett\\tmusical group']\n"
     ]
    }
   ],
   "source": [
    "associations_i = [1,1,1,1,1,1,1,1,1,2,2,2,2,2,2,2,2,2,2,2,2,3,3,3,4,4,4,4,4,4,4,5,5,5,5,5,5,6,6,6,6,6,6,6,6,6,6,6,7,7,7,7,7,7,7,7,7,7,7,7,7,7,7,7,7,7,7,8,8,8,8,8,8,8,9,9,10,10,10,10,11,11,11,11,12,12,8,9,10,11,13,14,16,17,17]\n",
    "associations_data = [institutions_dict[insititution] for insititution in associations_i]\n",
    "print(associations_data)"
   ]
  },
  {
   "cell_type": "code",
   "execution_count": 15,
   "metadata": {},
   "outputs": [
    {
     "name": "stdout",
     "output_type": "stream",
     "text": [
      "['Arthur Schnitzler\\t15.05.1862\\t21.10.1931\\twriter', 'Siegmund Salzmann\\t06.09.1869\\t08.10.1945\\twriter\\tFelix Salten', 'Arthur Schnitzler\\t15.05.1862\\t21.10.1931\\twriter', 'Hermann Bahr\\t19.07.1863\\t15.01.1934\\twriter', 'Arthur Schnitzler\\t15.05.1862\\t21.10.1931\\twriter', 'Arthur Schnitzler\\t15.05.1862\\t21.10.1931\\twriter', 'Arthur Schnitzler\\t15.05.1862\\t21.10.1931\\twriter', 'Alexander Girardi\\t5.12.1850\\t20.04.1918\\tactor']\n"
     ]
    }
   ],
   "source": [
    "persons_af1 = [8,7,8,2,8,8,8,88]\n",
    "af1_data = [person_dict[person] for person in persons_af1]\n",
    "print(af1_data)"
   ]
  },
  {
   "cell_type": "code",
   "execution_count": 16,
   "metadata": {},
   "outputs": [
    {
     "name": "stdout",
     "output_type": "stream",
     "text": [
      "['Maria Reinhard\\t13.03.1871\\t18.03.1899\\tactress\\tMarie Reinhard', 'Ottilie Metzl\\t07.03.1868\\t22.06.1942\\tactress\\tOttilie Salten', 'Clara Katharina Pollaczek\\t15.01.1875\\t22.07.1951\\twriter', 'Anna von Mildenburg\\t29.11.1872\\t27.01.1947\\toperasinger', 'Marie Chlum\\t03.07.1867\\t19.11.1925\\tactor\\tMarie Glümer', 'Friedrich Eckstein\\t17.2.1861\\t10.11.1939\\twriter', 'Heinrich Schnitzler\\t09.08.1902\\t12.07.1982\\tactor\\tHenry Schnitzler', 'Helene Petermann\\t31.7.1863\\t09.02.1939\\tactress\\tHelene Odilion']\n"
     ]
    }
   ],
   "source": [
    "persons_af2 = [68,69,25,20,29,39,98,93]\n",
    "af2_data = [person_dict[person] for person in persons_af2]\n",
    "print(af2_data)"
   ]
  },
  {
   "cell_type": "code",
   "execution_count": null,
   "metadata": {},
   "outputs": [],
   "source": []
  }
 ],
 "metadata": {
  "kernelspec": {
   "display_name": "Python 3",
   "language": "python",
   "name": "python3"
  },
  "language_info": {
   "codemirror_mode": {
    "name": "ipython",
    "version": 3
   },
   "file_extension": ".py",
   "mimetype": "text/x-python",
   "name": "python",
   "nbconvert_exporter": "python",
   "pygments_lexer": "ipython3",
   "version": "3.8.5"
  }
 },
 "nbformat": 4,
 "nbformat_minor": 4
}
